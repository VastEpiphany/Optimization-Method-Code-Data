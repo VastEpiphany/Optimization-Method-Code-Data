{
 "cells": [
  {
   "cell_type": "markdown",
   "metadata": {},
   "source": [
    "## 违约率计算实现代码\n",
    "\n",
    "实现目标： 自变量——进项每月平均交易金额\t进项负数发票率 进项发票作废率\t进项每月平均交易次数 、销项每月平均交易金额\t销项负数发票率 销项发票作废率\t销项每月平均交易次数、信誉评级数值    因变量——是否违约布尔值\n"
   ]
  },
  {
   "cell_type": "code",
   "execution_count": 1,
   "metadata": {},
   "outputs": [],
   "source": [
    "import pandas as pd\n",
    "from sklearn.model_selection import train_test_split\n",
    "from xgboost import XGBClassifier\n",
    "from sklearn.linear_model import LogisticRegression\n",
    "from sklearn.ensemble import RandomForestClassifier\n",
    "from sklearn.metrics import roc_auc_score, accuracy_score"
   ]
  },
  {
   "cell_type": "code",
   "execution_count": null,
   "metadata": {},
   "outputs": [],
   "source": [
    "# 加载 Excel 数据文件到 DataFrame\n",
    "df = pd.read_excel('./Data&Question/final_merged_data.xlsx', engine='openpyxl')\n",
    "\n",
    "# Define the feature columns and target column\n",
    "X = df[['进项每月平均交易金额', '进项负数发票率', '进项发票作废率', '进项每月平均交易次数',\n",
    "        '销项每月平均交易金额', '销项负数发票率', '销项发票作废率', '销项每月平均交易次数', '信誉评级数值']]\n",
    "y = df['是否违约布尔值']\n",
    "\n",
    "# Split the data into training and testing sets\n",
    "X_train, X_test, y_train, y_test = train_test_split(X, y, test_size=0.2, random_state=42)\n",
    "\n",
    "# Initialize and train the XGBoost classifier\n",
    "model = XGBClassifier(use_label_encoder=False, eval_metric='logloss')\n",
    "model.fit(X_train, y_train)\n",
    "\n",
    "# Make predictions on the test set\n",
    "y_pred = model.predict_proba(X_test)[:, 1]\n",
    "\n",
    "# Calculate and print the AUC score\n",
    "auc_score = roc_auc_score(y_test, y_pred)\n",
    "print(f\"AUC Score: {auc_score:.2f}\")\n",
    "\n",
    "# Calculate and print the accuracy score\n",
    "accuracy = accuracy_score(y_test, (y_pred > 0.5).astype(int))\n",
    "print(f\"Accuracy Score: {accuracy:.2f}\")\n",
    "\n",
    "# Display the predicted default probability for each company in the test set\n",
    "default_probabilities = model.predict_proba(X)[:, 1]\n",
    "df['违约率'] = default_probabilities\n",
    "\n",
    "# Display the DataFrame with predicted default rates\n",
    "print(df[['企业代号', '违约率']])"
   ]
  },
  {
   "cell_type": "code",
   "execution_count": null,
   "metadata": {},
   "outputs": [],
   "source": [
    "# Logistic Regression Model\n",
    "logistic_model = LogisticRegression(max_iter=1000)\n",
    "logistic_model.fit(X_train, y_train)\n",
    "\n",
    "# Make predictions on the test set using logistic regression\n",
    "y_pred_logistic = logistic_model.predict_proba(X_test)[:, 1]\n",
    "\n",
    "# Calculate and print the AUC and accuracy score for logistic regression\n",
    "auc_score_logistic = roc_auc_score(y_test, y_pred_logistic)\n",
    "print(f\"Logistic Regression AUC Score: {auc_score_logistic:.2f}\")\n",
    "\n",
    "accuracy_logistic = accuracy_score(y_test, (y_pred_logistic > 0.5).astype(int))\n",
    "print(f\"Logistic Regression Accuracy Score: {accuracy_logistic:.2f}\")\n",
    "\n",
    "# Predict default probability for each company using logistic regression\n",
    "default_probabilities_logistic = logistic_model.predict_proba(X)[:, 1]\n",
    "df['逻辑回归违约率'] = default_probabilities_logistic\n",
    "print(df[['企业代号', '逻辑回归违约率']])\n"
   ]
  },
  {
   "cell_type": "code",
   "execution_count": null,
   "metadata": {},
   "outputs": [],
   "source": [
    "# Random Forest Model\n",
    "rf_model = RandomForestClassifier(n_estimators=100, random_state=42)\n",
    "rf_model.fit(X_train, y_train)\n",
    "\n",
    "# Make predictions on the test set using random forest\n",
    "y_pred_rf = rf_model.predict_proba(X_test)[:, 1]\n",
    "\n",
    "# Calculate and print the AUC and accuracy score for random forest\n",
    "auc_score_rf = roc_auc_score(y_test, y_pred_rf)\n",
    "print(f\"Random Forest AUC Score: {auc_score_rf:.2f}\")\n",
    "\n",
    "accuracy_rf = accuracy_score(y_test, (y_pred_rf > 0.5).astype(int))\n",
    "print(f\"Random Forest Accuracy Score: {accuracy_rf:.2f}\")\n",
    "\n",
    "# Predict default probability for each company using random forest\n",
    "default_probabilities_rf = rf_model.predict_proba(X)[:, 1]\n",
    "df['随机森林违约率'] = default_probabilities_rf\n",
    "\n",
    "# Display the DataFrame with predicted default rates\n",
    "print(df[['企业代号','随机森林违约率']])"
   ]
  },
  {
   "cell_type": "code",
   "execution_count": null,
   "metadata": {},
   "outputs": [],
   "source": [
    "from scipy.optimize import minimize\n",
    "\n",
    "# Define the objective function to minimize (negative AUC score)\n",
    "def objective(weights):\n",
    "    y_pred_ensemble = (weights[0] * y_pred_logistic) + (weights[1] * y_pred_rf) + (weights[2] * y_pred)\n",
    "    return -roc_auc_score(y_test, y_pred_ensemble)\n",
    "\n",
    "# Constraints: weights must sum to 1\n",
    "constraints = ({'type': 'eq', 'fun': lambda weights: 1 - sum(weights)})\n",
    "\n",
    "# Bounds: weights must be between 0 and 1\n",
    "bounds = [(0, 1), (0, 1), (0, 1)]\n",
    "\n",
    "# Initial guess for the weights\n",
    "initial_weights = [1/3, 1/3, 1/3]\n",
    "\n",
    "# Optimize the weights\n",
    "result = minimize(objective, initial_weights, method='SLSQP', bounds=bounds, constraints=constraints)\n",
    "\n",
    "# Get the optimized weights\n",
    "optimized_weights = result.x\n",
    "print(f\"Optimized Weights: {optimized_weights}\")\n",
    "\n",
    "# Calculate the weighted average of the predictions using optimized weights\n",
    "y_pred_ensemble_optimized = (optimized_weights[0] * y_pred_logistic) + (optimized_weights[1] * y_pred_rf) + (optimized_weights[2] * y_pred)\n",
    "\n",
    "# Calculate and print the AUC and accuracy score for the optimized ensemble model\n",
    "auc_score_ensemble_optimized = roc_auc_score(y_test, y_pred_ensemble_optimized)\n",
    "print(f\"Optimized Ensemble Model AUC Score: {auc_score_ensemble_optimized:.2f}\")\n",
    "\n",
    "accuracy_ensemble_optimized = accuracy_score(y_test, (y_pred_ensemble_optimized > 0.5).astype(int))\n",
    "print(f\"Optimized Ensemble Model Accuracy Score: {accuracy_ensemble_optimized:.2f}\")\n",
    "\n",
    "# Predict default probability for each company using the optimized ensemble model\n",
    "default_probabilities_ensemble_optimized = (optimized_weights[0] * default_probabilities_logistic) + (optimized_weights[1] * default_probabilities_rf) + (optimized_weights[2] * default_probabilities)\n",
    "df['优化融合模型违约率'] = default_probabilities_ensemble_optimized\n",
    "\n",
    "# Display the DataFrame with predicted default rates\n",
    "print(df[['企业代号', '优化融合模型违约率']])"
   ]
  },
  {
   "cell_type": "markdown",
   "metadata": {},
   "source": [
    "## 添加客户流动损失与最高贷款额度项"
   ]
  },
  {
   "cell_type": "code",
   "execution_count": 12,
   "metadata": {},
   "outputs": [],
   "source": [
    "# Save the DataFrame with the predicted default rates to a new Excel file\n",
    "df.to_excel('./Data&Question/final_merged_data_with_predictions.xlsx', index=False)"
   ]
  }
 ],
 "metadata": {
  "kernelspec": {
   "display_name": "EX",
   "language": "python",
   "name": "python3"
  },
  "language_info": {
   "codemirror_mode": {
    "name": "ipython",
    "version": 3
   },
   "file_extension": ".py",
   "mimetype": "text/x-python",
   "name": "python",
   "nbconvert_exporter": "python",
   "pygments_lexer": "ipython3",
   "version": "3.10.0"
  }
 },
 "nbformat": 4,
 "nbformat_minor": 2
}
